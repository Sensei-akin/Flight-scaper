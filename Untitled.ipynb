{
 "cells": [
  {
   "cell_type": "code",
   "execution_count": 4,
   "metadata": {},
   "outputs": [],
   "source": [
    "import pandas as pd\n",
    "import datetime, time\n",
    "import numpy as np\n",
    "import click"
   ]
  },
  {
   "cell_type": "code",
   "execution_count": 5,
   "metadata": {},
   "outputs": [],
   "source": [
    "from selenium import webdriver\n",
    "from selenium.webdriver.common.keys import Keys\n",
    "from bs4 import BeautifulSoup"
   ]
  },
  {
   "cell_type": "code",
   "execution_count": 6,
   "metadata": {},
   "outputs": [],
   "source": [
    "import smtplib\n",
    "from email import encoders\n",
    "from email.mime.multipart import MIMEMultipart, MIMEBase\n",
    "from email.mime.text import MIMEText"
   ]
  },
  {
   "cell_type": "code",
   "execution_count": null,
   "metadata": {},
   "outputs": [],
   "source": [
    "driver = webdriver.Chrome(executable_path=\"/Users/akinwande.komolafe/Downloads/chromedriver\")"
   ]
  },
  {
   "cell_type": "code",
   "execution_count": null,
   "metadata": {},
   "outputs": [],
   "source": [
    "url = 'www.expedia.com'\n",
    "flight_tab = \"//button[ @id='tab-flight-tab-hp']\"\n",
    "return_ticket = \"//label[@id='flight-type-roundtrip-label-hp-flight']\"\n",
    "one_way_ticket = \"//label[@id='flight-type-one-way-label-hp-flight']\"\n",
    "multi_ticket = \"//label[@id='flight-type-multi-dest-label-hp-flight']\"\n",
    "depature_country = \"//input[@id='flight-origin-hp-flight']\"\n",
    "arrival_country = \"//input[@id='flight-destination-hp-flight']\"\n",
    "search_tab = \"//button[@class='btn-primary btn-action gcw-submit']\"\n",
    "country_list = [depature_country,arrival_country]"
   ]
  },
  {
   "cell_type": "code",
   "execution_count": null,
   "metadata": {},
   "outputs": [],
   "source": [
    "def ticket_chooser(ticket):\n",
    "    try:\n",
    "        ticket_type = driver.find_element_by_xpath(ticket)\n",
    "        ticket_type.click()\n",
    "    except Exception as e:\n",
    "        print(e)"
   ]
  },
  {
   "cell_type": "code",
   "execution_count": null,
   "metadata": {},
   "outputs": [],
   "source": [
    "def select_country(country_list,dep_cou,arr_cou):\n",
    "    try:\n",
    "        for country in country_list:\n",
    "            if country == depature_country:\n",
    "                fly_from = driver.find_element_by_xpath(country)\n",
    "                time.sleep(1)\n",
    "                fly_from.clear()\n",
    "                time.sleep(1)\n",
    "                fly_from.send_keys(dep_cou)\n",
    "                time.sleep(0.5)\n",
    "                first_item = driver.find_element_by_xpath(\"//a[@id='aria-option-0']\")\n",
    "                time.sleep(1)\n",
    "                first_item.click()\n",
    "            elif country == arrival_country:\n",
    "                fly_to = driver.find_element_by_xpath(country)\n",
    "                time.sleep(1)\n",
    "                fly_to.clear()\n",
    "                time.sleep(1)\n",
    "                fly_to.send_keys(\" \" + arr_cou)\n",
    "                time.sleep(0.5)\n",
    "                second_item = driver.find_element_by_xpath(\"//a[@id='aria-option-0']\")\n",
    "                time.sleep(1)\n",
    "                second_item.click()\n",
    "            else:\n",
    "                raise ValueError\n",
    "    except Exception as e:\n",
    "        print(e)"
   ]
  },
  {
   "cell_type": "code",
   "execution_count": null,
   "metadata": {},
   "outputs": [],
   "source": [
    "def dep_date(month, day, year):\n",
    "    dep_date_button = driver.find_element_by_xpath(\"//input[@id='flight-departing-hp-flight']\")\n",
    "    dep_date_button.clear()\n",
    "    dep_date_button.send_keys(month + '/' + day + '/' + year)"
   ]
  },
  {
   "cell_type": "code",
   "execution_count": null,
   "metadata": {},
   "outputs": [],
   "source": [
    "def return_date(month,day,year):\n",
    "    dep_date_button = driver.find_element_by_xpath(\"//input[@id='flight-returning-hp-flight']\")\n",
    "    dep_date_button.clear()\n",
    "    for _ in range(10):\n",
    "        dep_date_button.send_keys(Keys.BACK_SPACE)\n",
    "    time.sleep(1)\n",
    "    dep_date_button.send_keys(month + '/' + day + '/' + year)\n",
    "    dep_date_button.click()"
   ]
  },
  {
   "cell_type": "code",
   "execution_count": null,
   "metadata": {},
   "outputs": [],
   "source": [
    "def search(search):\n",
    "    search_button = driver.find_element_by_xpath(search)\n",
    "    search_button.click()\n",
    "    time.sleep(15)\n",
    "    print('Results ready!')"
   ]
  },
  {
   "cell_type": "code",
   "execution_count": null,
   "metadata": {},
   "outputs": [],
   "source": [
    "def flight(flight):\n",
    "    flight_tab = driver.find_element_by_xpath(flight)\n",
    "    flight_tab.click()"
   ]
  },
  {
   "cell_type": "code",
   "execution_count": null,
   "metadata": {},
   "outputs": [],
   "source": [
    "df = pd.DataFrame()\n",
    "def compile_data():\n",
    "    global df\n",
    "    global dep_times_list,joined_list\n",
    "    global arr_times_list,columns\n",
    "    global airlines_list\n",
    "    global price_list\n",
    "    global durations_list\n",
    "    global stops_list\n",
    "    global layovers_list\n",
    "    global rating_list\n",
    "    global dic\n",
    "    #departure times\n",
    "    dep_times = driver.find_elements_by_xpath(\"//span[@data-test-id='departure-time']\")\n",
    "    dep_times_list = [value.text for value in dep_times]\n",
    "\n",
    "    #arrival times\n",
    "    arr_times = driver.find_elements_by_xpath(\"//span[@data-test-id='arrival-time']\")\n",
    "    arr_times_list = [value.text for value in arr_times]\n",
    "    #airline name\n",
    "    airlines = driver.find_elements_by_xpath(\"//span[@data-test-id='airline-name']\")\n",
    "    airlines_list = [value.text for value in airlines]\n",
    "    empty = airlines_list.pop(0)\n",
    "    #prices\n",
    "    prices = driver.find_elements_by_xpath(\"//span[@data-test-id='listing-price-dollars']\")\n",
    "    price_list = [value.text.split('$')[1] for value in prices]\n",
    "    #durations\n",
    "    durations = driver.find_elements_by_xpath(\"//span[@data-test-id='duration']\")\n",
    "    durations_list = [value.text for value in durations]\n",
    "    #stops\n",
    "    stops = driver.find_elements_by_xpath(\"//span[@class='number-stops']\")\n",
    "    stops_list = [value.text for value in stops]\n",
    "    #layovers\n",
    "    layovers = driver.find_elements_by_xpath(\"//span[@data-test-id='layover-info']\")\n",
    "    layovers_list = [value.text for value in layovers]\n",
    "    \n",
    "    rating = driver.find_elements_by_xpath(\"//a[@data-click-handler='omnitureClickHandler']\")\n",
    "    rating_list = [value.text for value in rating]\n",
    "    \n",
    "    joined_list = [dep_times_list,arr_times_list,airlines_list,price_list,durations_list,stops_list,layovers_list\\\n",
    "                  ,rating_list]\n",
    "    columns = ['departure_time','arrival_time','airlines','price','durations','stopovers','layovers',\n",
    "              'ratings']\n",
    "    dic = {}\n",
    "    for col,val in zip(columns,joined_list):\n",
    "        dic[col] = val\n",
    "        with open(f'data/{col}.txt','w') as f:\n",
    "            for v in val:\n",
    "                f.write(f'{v}\\n')\n",
    "    df = pd.DataFrame.from_dict(dic)"
   ]
  },
  {
   "cell_type": "code",
   "execution_count": null,
   "metadata": {},
   "outputs": [],
   "source": [
    "link = 'https://www.expedia.com/'\n",
    "driver.get(link)\n",
    "flight(flight_tab)\n",
    "ticket_chooser(return_ticket)\n",
    "select_country(country_list,'Cairo','Newyork')\n",
    "dep_date('10','5','2020')\n",
    "return_date('10','8','2020')\n",
    "search(search_tab)\n",
    "compile_data()\n",
    "df.to_excel('flights.xlsx',index=False)"
   ]
  },
  {
   "cell_type": "code",
   "execution_count": 2,
   "metadata": {},
   "outputs": [
    {
     "name": "stdout",
     "output_type": "stream",
     "text": [
      "Traceback (most recent call last):\r\n",
      "  File \"scrape.py\", line 153, in <module>\r\n",
      "    driver = selenium.webdriver.Chrome(executable_path=\"/Users/akinwande.komolafe/Downloads/chromedriver\")\r\n",
      "  File \"/Users/akinwande.komolafe/opt/anaconda3/lib/python3.7/site-packages/selenium/webdriver/chrome/webdriver.py\", line 81, in __init__\r\n",
      "    desired_capabilities=desired_capabilities)\r\n",
      "  File \"/Users/akinwande.komolafe/opt/anaconda3/lib/python3.7/site-packages/selenium/webdriver/remote/webdriver.py\", line 157, in __init__\r\n",
      "    self.start_session(capabilities, browser_profile)\r\n",
      "  File \"/Users/akinwande.komolafe/opt/anaconda3/lib/python3.7/site-packages/selenium/webdriver/remote/webdriver.py\", line 252, in start_session\r\n",
      "    response = self.execute(Command.NEW_SESSION, parameters)\r\n",
      "  File \"/Users/akinwande.komolafe/opt/anaconda3/lib/python3.7/site-packages/selenium/webdriver/remote/webdriver.py\", line 321, in execute\r\n",
      "    self.error_handler.check_response(response)\r\n",
      "  File \"/Users/akinwande.komolafe/opt/anaconda3/lib/python3.7/site-packages/selenium/webdriver/remote/errorhandler.py\", line 242, in check_response\r\n",
      "    raise exception_class(message, screen, stacktrace)\r\n",
      "selenium.common.exceptions.SessionNotCreatedException: Message: session not created: This version of ChromeDriver only supports Chrome version 79\r\n",
      "\r\n"
     ]
    }
   ],
   "source": [
    "!python scrape.py 'https://www.expedia.com/' 'Cairo' 'Newyork'"
   ]
  },
  {
   "cell_type": "code",
   "execution_count": null,
   "metadata": {},
   "outputs": [],
   "source": [
    "df.stopovers = [val[1:-1].split(' ')[0] for val in df.stopovers]"
   ]
  },
  {
   "cell_type": "code",
   "execution_count": 9,
   "metadata": {},
   "outputs": [],
   "source": [
    "columns = ['departure_time','arrival_time','airlines','price','durations','stopovers','layovers',\n",
    "              'ratings']\n",
    "current_values = []\n",
    "\n",
    "for col in columns:\n",
    "    with open(f'data/{col}.txt','r') as f:\n",
    "        word = f.readline()#.splitlines()\n",
    "        current_values.append(word)\n",
    "#df = pd.DataFrame.from_dict(dic)"
   ]
  },
  {
   "cell_type": "code",
   "execution_count": 10,
   "metadata": {},
   "outputs": [],
   "source": [
    "cheapest_dep_time = current_values[0]\n",
    "cheapest_arrival_time = current_values[1]\n",
    "cheapest_airline = current_values[2]\n",
    "cheapest_duration = current_values[4]\n",
    "cheapest_stops = current_values[5]\n",
    "cheapest_price = current_values[3]\n",
    "cheapest_layover_info = current_values[6]\n",
    "cheapest_ratings = current_values[7]"
   ]
  },
  {
   "cell_type": "code",
   "execution_count": 13,
   "metadata": {},
   "outputs": [
    {
     "name": "stdout",
     "output_type": "stream",
     "text": [
      "Sent\n"
     ]
    }
   ],
   "source": [
    "import smtplib\n",
    "\n",
    "sender = \"Private Person <from@smtp.mailtrap.io>\"\n",
    "receiver = \"A Test User <to@smtp.mailtrap.io>\"\n",
    "\n",
    "message = MIMEMultipart(\"alternative\")\n",
    "message[\"Subject\"] = \"multipart test\"\n",
    "message[\"From\"] = sender\n",
    "message[\"To\"] = receiver\n",
    "# Write the plain text part\n",
    "text = f\"\"\"\\nCurrent Cheapest flight:\\n\\nDeparture time: {cheapest_dep_time}\\nArrival time: {cheapest_arrival_time}\\nAirline: {cheapest_airline}\\\n",
    "                \\nFlight duration: {cheapest_duration}\\\n",
    "                \\nNo. of stops: {cheapest_stops}\\nPrice: ${cheapest_price}\\\n",
    "                \\nLayover Information: {cheapest_layover_info}\\\n",
    "                \\nAirline rating: {cheapest_ratings}\"\"\"\n",
    "\n",
    "filename = \"flights.xlsx\"\n",
    "# Open file in binary mode\n",
    "with open(filename, \"rb\") as attachment:\n",
    "# The content type \"application/octet-stream\" means that a MIME attachment is a binary file\n",
    "    part = MIMEBase(\"application\", \"octet-stream\")\n",
    "    part.set_payload(attachment.read())\n",
    "# Encode to base64\n",
    "    encoders.encode_base64(part)\n",
    "# Add header\n",
    "    part.add_header(\"Content-Disposition\", f\"attachment; filename= {filename}\")\n",
    "# Add attachment to your message and convert it to string\n",
    "message.attach(part)\n",
    "\n",
    "part1 = MIMEText(text, \"plain\")\n",
    "message.attach(part1)\n",
    "\n",
    "try:\n",
    "  # Send your message with credentials specified above\n",
    "    with smtplib.SMTP(\"smtp.mailtrap.io\", 2525) as server:\n",
    "        server.login(\"e30a8f09395ca9\", \"7c40484aa36485\")\n",
    "        server.sendmail(sender, receiver, message.as_string())\n",
    "except (gaierror, ConnectionRefusedError):\n",
    "  # tell the script to report if your message was sent or which errors need to be fixed\n",
    "    print('Failed to connect to the server. Bad connection settings?')\n",
    "except smtplib.SMTPServerDisconnected:\n",
    "    print('Failed to connect to the server. Wrong user/password?')\n",
    "except smtplib.SMTPException as e:\n",
    "    print('SMTP error occurred: ' + str(e))\n",
    "else:\n",
    "    print('Sent')"
   ]
  },
  {
   "cell_type": "code",
   "execution_count": null,
   "metadata": {},
   "outputs": [],
   "source": [
    "import luigi,time\n",
    "\n",
    "class ScrapeData(luigi.Task):\n",
    "\n",
    "    def output(self):\n",
    "        for key,value in self.dic.items():\n",
    "            self.key = key\n",
    "        return luigi.LocalTarget(path=f'data/{self.key}.txt')\n",
    "    \n",
    "    def run(self):\n",
    "        self.output().makedirs()\n",
    "        #departure times\n",
    "        dep_times = driver.find_elements_by_xpath(\"//span[@data-test-id='departure-time']\")\n",
    "        dep_times_list = [value.text for value in dep_times]\n",
    "\n",
    "        #arrival times\n",
    "        arr_times = driver.find_elements_by_xpath(\"//span[@data-test-id='arrival-time']\")\n",
    "        arr_times_list = [value.text for value in arr_times]\n",
    "        #airline name\n",
    "        airlines = driver.find_elements_by_xpath(\"//span[@data-test-id='airline-name']\")\n",
    "        airlines_list = [value.text for value in airlines]\n",
    "        empty = airlines_list.pop(0)\n",
    "        #prices\n",
    "        prices = driver.find_elements_by_xpath(\"//span[@data-test-id='listing-price-dollars']\")\n",
    "        price_list = [value.text.split('$')[1] for value in prices]\n",
    "        #durations\n",
    "        durations = driver.find_elements_by_xpath(\"//span[@data-test-id='duration']\")\n",
    "        durations_list = [value.text for value in durations]\n",
    "        #stops\n",
    "        stops = driver.find_elements_by_xpath(\"//span[@class='number-stops']\")\n",
    "        stops_list = [value.text for value in stops]\n",
    "        #layovers\n",
    "        layovers = driver.find_elements_by_xpath(\"//span[@data-test-id='layover-info']\")\n",
    "        layovers_list = [value.text for value in layovers]\n",
    "\n",
    "        rating = driver.find_elements_by_xpath(\"//a[@data-click-handler='omnitureClickHandler']\")\n",
    "        rating_list = [value.text for value in rating]\n",
    "\n",
    "        self.joined_list = [dep_times_list,arr_times_list,airlines_list,price_list,durations_list,stops_list,layovers_list\\\n",
    "                      ,rating_list]\n",
    "        self.columns = ['departure_time','arrival_time','airlines','price','durations','stopovers','layovers',\n",
    "                  'ratings']\n",
    "        self.dic = {}\n",
    "        for col,val in zip(self.columns,self.joined_list):\n",
    "            self.dic[col] = val\n",
    "        time.sleep(5)\n",
    "        \n",
    "        for key,value in self.dic.items():\n",
    "            with self.output().open('w') as f:\n",
    "                for word in value:\n",
    "                    file.write(f'{word}\\n')\n",
    "                \n",
    "                \n",
    "class ScrapeData(luigi.Task):\n",
    "    def requires(self):\n",
    "        pass\n",
    "    \n",
    "    def output(self):\n",
    "        return luigi.LocalTarget(path='data/counts/counts.txt')\n",
    "    \n",
    "    def run(self):\n",
    "       \n",
    "                \n",
    "#if __name__ == '__main__':\n",
    "    \n",
    "    "
   ]
  },
  {
   "cell_type": "code",
   "execution_count": null,
   "metadata": {},
   "outputs": [],
   "source": [
    "!wget https://github.com/Sensei-akin/Projects/blob/master/Capstone%20-%20Used%20Car%20Price%20Predictor%20Model/Web%20Scraping/080119_pk%20and%20carmudi_complete.csv?raw=true"
   ]
  },
  {
   "cell_type": "code",
   "execution_count": null,
   "metadata": {},
   "outputs": [],
   "source": [
    "!wget"
   ]
  },
  {
   "cell_type": "code",
   "execution_count": null,
   "metadata": {},
   "outputs": [],
   "source": [
    "!sudo pip install wget"
   ]
  },
  {
   "cell_type": "code",
   "execution_count": null,
   "metadata": {},
   "outputs": [],
   "source": []
  }
 ],
 "metadata": {
  "kernelspec": {
   "display_name": "Python 3",
   "language": "python",
   "name": "python3"
  },
  "language_info": {
   "codemirror_mode": {
    "name": "ipython",
    "version": 3
   },
   "file_extension": ".py",
   "mimetype": "text/x-python",
   "name": "python",
   "nbconvert_exporter": "python",
   "pygments_lexer": "ipython3",
   "version": "3.7.4"
  }
 },
 "nbformat": 4,
 "nbformat_minor": 2
}
